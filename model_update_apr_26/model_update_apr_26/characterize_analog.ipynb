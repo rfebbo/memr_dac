{
 "cells": [
  {
   "cell_type": "code",
   "execution_count": 3,
   "metadata": {},
   "outputs": [],
   "source": [
    "import os\n",
    "import pandas as pd\n",
    "import matplotlib.pyplot as plt\n",
    "import matplotlib.colors as mcolors\n",
    "import regex as re\n",
    "import numpy as np\n",
    "\n",
    "from read_1t1r_data import read_1t1r_data\n",
    "\n",
    "from matplotlib import rcParams\n",
    "rcParams.update({'figure.autolayout': True})\n",
    "\n",
    "# plt.style.use('dracula')\n",
    "plt.style.use('ggplot')\n",
    "\n",
    "# print(plt.style.available)"
   ]
  },
  {
   "cell_type": "code",
   "execution_count": 4,
   "metadata": {},
   "outputs": [
    {
     "name": "stdout",
     "output_type": "stream",
     "text": [
      "Found 29 Prog Tests across 1 temperatures\n"
     ]
    }
   ],
   "source": [
    "folder = '.'\n",
    "\n",
    "test_types = ['Prog']\n",
    "all_data = {}\n",
    "for ttype in test_types:\n",
    "    # recursively search the folder for excel files starting with ttype\n",
    "    t, d,l = read_1t1r_data(folder, ttype)\n",
    "\n",
    "    # sort the data by temerature and store it\n",
    "    all_data[ttype] = sorted(list(zip(t,d,l)), key=lambda x:x[0])\n",
    "    \n",
    "    print(f\"Found {len(d)} {ttype} Tests across {len(np.unique(t))} temperatures\")"
   ]
  },
  {
   "cell_type": "code",
   "execution_count": 5,
   "metadata": {},
   "outputs": [
    {
     "data": {
      "text/plain": [
       "Index([         1,      'LRS',      'HRS',     'setv',   'resetv',    'gatev',\n",
       "          'vread', 'LRSreadi', 'HRSreadi',     'seti',   'reseti'],\n",
       "      dtype='object')"
      ]
     },
     "execution_count": 5,
     "metadata": {},
     "output_type": "execute_result"
    }
   ],
   "source": [
    "all_data['Prog'][0][2]"
   ]
  },
  {
   "cell_type": "code",
   "execution_count": 6,
   "metadata": {},
   "outputs": [
    {
     "ename": "KeyError",
     "evalue": "'Form'",
     "output_type": "error",
     "traceback": [
      "\u001b[0;31m---------------------------------------------------------------------------\u001b[0m",
      "\u001b[0;31mKeyError\u001b[0m                                  Traceback (most recent call last)",
      "Cell \u001b[0;32mIn[6], line 19\u001b[0m\n\u001b[1;32m     16\u001b[0m \u001b[39m# threshold for determining when a form has occured\u001b[39;00m\n\u001b[1;32m     17\u001b[0m form_multiple_difference \u001b[39m=\u001b[39m \u001b[39m500\u001b[39m\n\u001b[0;32m---> 19\u001b[0m \u001b[39mfor\u001b[39;00m idx, d \u001b[39min\u001b[39;00m \u001b[39menumerate\u001b[39m(all_data[\u001b[39m'\u001b[39;49m\u001b[39mForm\u001b[39;49m\u001b[39m'\u001b[39;49m]):\n\u001b[1;32m     20\u001b[0m     \u001b[39mif\u001b[39;00m idx \u001b[39min\u001b[39;00m idx_to_ignore:\n\u001b[1;32m     21\u001b[0m         \u001b[39mcontinue\u001b[39;00m\n",
      "\u001b[0;31mKeyError\u001b[0m: 'Form'"
     ]
    }
   ],
   "source": [
    "# analyze memristor as if it's a state machine\n",
    "plot_iv = True\n",
    "idx_to_ignore = [22, 14, 8] # I got this by looking at the iv plots for bad memristors\n",
    "\n",
    "# 2D lists \n",
    "# the first dimension is devices\n",
    "# the second is the LRS/HRS values of each i/v sweep\n",
    "LRS = []\n",
    "HRS = []\n",
    "\n",
    "all_form_vs = [] #set voltages\n",
    "\n",
    "read_v = 0.2 #voltage at which to 'read' LRS/HRS resitances\n",
    "n_read_points = 8 # number of points to average  LRS/HRS\n",
    "\n",
    "# threshold for determining when a form has occured\n",
    "form_multiple_difference = 500\n",
    "\n",
    "for idx, d in enumerate(all_data['Form']):\n",
    "    if idx in idx_to_ignore:\n",
    "        continue\n",
    "\n",
    "    current = []\n",
    "    voltage = []\n",
    "    for j, p in enumerate(d[1]):\n",
    "\n",
    "        current.append(p[1])\n",
    "        voltage.append(p[0])\n",
    "\n",
    "    curr_LRS = []\n",
    "    curr_HRS = []\n",
    "\n",
    "    sweeps_v = []\n",
    "    sweeps_i = []\n",
    "    sweeps_v.append([])\n",
    "    sweeps_i.append([])\n",
    "\n",
    "    state = 'check_form'\n",
    "    form_vs = []\n",
    "    form_is = []\n",
    "    test_is = []\n",
    "    test_vs = []\n",
    "    HRS_measure_is = []\n",
    "    HRS_measure_vs = []\n",
    "    LRS_measure_is = []\n",
    "    LRS_measure_vs = []\n",
    "    read_resistances = []\n",
    "    last_resistance = voltage[0]/current[0]\n",
    "    last_v = voltage[0]\n",
    "    last_i = current[0]\n",
    "    last_x_is = []\n",
    "    last_x_vs = []\n",
    "    len_is = 8\n",
    "\n",
    "    for v, i in zip(voltage, current):\n",
    "        sweeps_i[-1].append(i)\n",
    "        sweeps_v[-1].append(v)\n",
    "        resistance = v/i\n",
    "        # print(f'{state} {v} {min_vs} {read_resistances} {resistance} {last_resistance} {i} {min_is}')\n",
    "        last_x_is.append(i)\n",
    "        if len(last_x_is) > len_is:\n",
    "            last_x_is.pop(0)\n",
    "        last_x_vs.append(v)\n",
    "        if len(last_x_vs) > len_is:\n",
    "            last_x_vs.pop(0)\n",
    "\n",
    "        if state=='check_form':\n",
    "            if (len(last_x_is) == len_is and i > form_multiple_difference*np.mean(np.abs(last_x_is[0:4]))) or i > 0.00005:\n",
    "                form_vs.append(last_v)\n",
    "                form_is.append(last_i)\n",
    "                test_is.append(last_x_is[0])\n",
    "                test_vs.append(last_x_vs[0])\n",
    "                last_5_is = []\n",
    "                break\n",
    "        \n",
    "        last_resistance = resistance\n",
    "        last_v = v\n",
    "        last_i = i\n",
    "\n",
    "    \n",
    "\n",
    "    # add in the last one resistance level depending on what state we were last in\n",
    "    if state=='read_hrs' and len(read_resistances) >0:\n",
    "        curr_HRS.append(np.mean(read_resistances))\n",
    "    elif state=='read_lrs' and len(read_resistances) >0:\n",
    "        curr_LRS.append(np.mean(read_resistances))\n",
    "\n",
    "    if plot_iv:\n",
    "        idx_test = 0\n",
    "        # plt.plot(sweeps_v[idx_test], 1/np.gradient(sweeps_i[idx_test]))\n",
    "        # plt.plot(sweeps_v[idx_test], sweeps_i[idx_test], color='tab:blue')\n",
    "        plt.plot(voltage, current, color='tab:blue')\n",
    "        plt.scatter(form_vs, form_is, color='tab:green')\n",
    "        # plt.scatter(test_vs, test_is, color='tab:orange')\n",
    "        # plt.scatter(HRS_measure_vs, HRS_measure_is, color='tab:purple')\n",
    "        # plt.scatter(LRS_measure_vs, LRS_measure_is, color='k')\n",
    "        plt.title(f'{idx}')\n",
    "        plt.ylabel('Current (A)')\n",
    "        plt.xlabel('Voltage (V)')\n",
    "        # plt.yscale('log')\n",
    "        plt.show()\n",
    "\n",
    "    # print(min_vs)\n",
    "    all_form_vs.append(form_vs)\n",
    "    LRS.append(np.asarray(curr_LRS))\n",
    "    HRS.append(np.asarray(curr_HRS))\n",
    "        \n",
    "\n",
    "print(f'The Form Operation has been tested on {len(all_form_vs)} devices')\n",
    "print(f'Form Voltage:\\n\\tmean: {np.mean(all_form_vs)} Volts\\n\\tstd: {np.std(all_form_vs)} Volts')\n",
    "\n",
    "# print(np.std(HRS, axis=0))\n",
    "\n",
    "\n"
   ]
  },
  {
   "cell_type": "code",
   "execution_count": null,
   "metadata": {},
   "outputs": [],
   "source": []
  }
 ],
 "metadata": {
  "kernelspec": {
   "display_name": "Python 3.10.8 64-bit",
   "language": "python",
   "name": "python3"
  },
  "language_info": {
   "codemirror_mode": {
    "name": "ipython",
    "version": 3
   },
   "file_extension": ".py",
   "mimetype": "text/x-python",
   "name": "python",
   "nbconvert_exporter": "python",
   "pygments_lexer": "ipython3",
   "version": "3.11.3"
  },
  "orig_nbformat": 4,
  "vscode": {
   "interpreter": {
    "hash": "e7370f93d1d0cde622a1f8e1c04877d8463912d04d973331ad4851f04de6915a"
   }
  }
 },
 "nbformat": 4,
 "nbformat_minor": 2
}
